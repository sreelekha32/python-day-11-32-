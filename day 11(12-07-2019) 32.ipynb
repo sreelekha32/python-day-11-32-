{
 "cells": [
  {
   "cell_type": "markdown",
   "metadata": {},
   "source": [
    "### Regular Expression\n",
    "- pattern matching\n",
    "- patterns(re) package\n",
    "- [0-9]-->ant digit matching\n",
    "- cap symbol is used to represent the start of re\n",
    "- dollor symbol is used to represent the end of re\n",
    "\n",
    "          - two digit number(^[0-9]{2}$)\n",
    "           - five digit number(^[0-9]{5}$)"
   ]
  },
  {
   "cell_type": "markdown",
   "metadata": {},
   "source": [
    "### Regular expressions for characters\n",
    "- [a-z]-->any lower case\n",
    "- [A-Z]-->any upper case\n",
    "- ^[a-z]{5}$--> it accepts 5 lower case characters\n",
    "\n",
    "- ^[a-zA-Z]{8}--> accept 8 characters can be anything lower and upper\n",
    "- ^  [a-zA-Z0-9]{8}$--> Accept 8 characters can be anything lower,upper and digit"
   ]
  },
  {
   "cell_type": "code",
   "execution_count": 6,
   "metadata": {},
   "outputs": [
    {
     "name": "stdout",
     "output_type": "stream",
     "text": [
      "True\n",
      "False\n"
     ]
    }
   ],
   "source": [
    "# function totest two digit number matching\n",
    "import re\n",
    "def twodigitmatching(n):\n",
    "    pattern='^[0-9]{2}$'\n",
    "    n=str(n)\n",
    "    if re.match(pattern,n):\n",
    "        return True\n",
    "    return False\n",
    "print(twodigitmatching(12))\n",
    "print(twodigitmatching(123))"
   ]
  },
  {
   "cell_type": "code",
   "execution_count": 5,
   "metadata": {},
   "outputs": [
    {
     "name": "stdout",
     "output_type": "stream",
     "text": [
      "True\n",
      "False\n"
     ]
    }
   ],
   "source": [
    "# function to define to test username having 8 characters\n",
    "# upper case and lower\n",
    "def testusername(s):\n",
    "    pattern='^[a-zA-Z]{8}$'\n",
    "    if re.match(pattern,s):\n",
    "        return True\n",
    "    return False\n",
    "print(testusername('GitamHYD'))\n",
    "print(testusername('Gitam188'))"
   ]
  },
  {
   "cell_type": "markdown",
   "metadata": {},
   "source": [
    "### Regular Expression to match the Indian Mobile Number\n",
    "- 10 digits\n",
    "- (first digit will be [6-9])and remaining 9 digits will be [0-9]\n",
    "- example-6303875089\n",
    "- re-^[6-9][0-9]{9}$\n",
    "- example:-09988774455\n",
    "\n",
    "- re-^[0][6-9][0-9]{9}$\n",
    "- example:- +919988774455"
   ]
  },
  {
   "cell_type": "code",
   "execution_count": 9,
   "metadata": {},
   "outputs": [
    {
     "data": {
      "text/plain": [
       "True"
      ]
     },
     "execution_count": 9,
     "metadata": {},
     "output_type": "execute_result"
    }
   ],
   "source": [
    "# function to validate the Indian mobile number\n",
    "def phonenumber(phone):\n",
    "    pattern='^[6-9][0-9]{9}$|^[0][6-9][0-9]{9}$|^[+][9][1][6-9][0-9]{9}'\n",
    "    phone=str(phone)\n",
    "    if re.match(pattern,phone):\n",
    "        return True\n",
    "    return False\n",
    "phonenumber('+919988774455')"
   ]
  },
  {
   "cell_type": "markdown",
   "metadata": {},
   "source": [
    "- regular expression to validate the roll number\n",
    "    - example: 1521A0501\n",
    "    - example: 1521A0109\n",
    "    - example: 1521A0499\n",
    "- regular expression to validate the password\n",
    "    - parameters: len min of 6 characters and max of 15 characters\n",
    "    - accept lower case,upper case,digits spl char(@,#,!)"
   ]
  },
  {
   "cell_type": "code",
   "execution_count": 20,
   "metadata": {},
   "outputs": [
    {
     "data": {
      "text/plain": [
       "True"
      ]
     },
     "execution_count": 20,
     "metadata": {},
     "output_type": "execute_result"
    }
   ],
   "source": [
    "def rollnum(num):\n",
    "    pattern='^[1][5][2][1][A][0][0-6][0-9]{2}'\n",
    "    rollnum=str(num)\n",
    "    if re.match(pattern,num):\n",
    "        return True\n",
    "    return False\n",
    "rollnum('1521A0501')"
   ]
  },
  {
   "cell_type": "code",
   "execution_count": null,
   "metadata": {},
   "outputs": [],
   "source": [
    "def password(num):\n",
    "    pattern='^'"
   ]
  },
  {
   "cell_type": "code",
   "execution_count": 22,
   "metadata": {},
   "outputs": [
    {
     "name": "stdout",
     "output_type": "stream",
     "text": [
      "\n",
      "escaping double quotes: \n",
      "I'm a \"python\"\n"
     ]
    }
   ],
   "source": [
    "string1=\"I'm a \\\"python\\\"\"\n",
    "print(\"\\nescaping double quotes: \")\n",
    "print(string1)"
   ]
  },
  {
   "cell_type": "code",
   "execution_count": 26,
   "metadata": {},
   "outputs": [
    {
     "data": {
      "text/plain": [
       "True"
      ]
     },
     "execution_count": 26,
     "metadata": {},
     "output_type": "execute_result"
    }
   ],
   "source": [
    "def password(num):\n",
    "    pattern='^[a-zA-Z0-9@#!]{6,15}$'\n",
    "    password=str(num)\n",
    "    if re.match(pattern,num):\n",
    "        return True\n",
    "    return False\n",
    "password('anJS#dYIG')\n",
    "    "
   ]
  },
  {
   "cell_type": "markdown",
   "metadata": {},
   "source": [
    "### email id validity using regular expressions\n",
    "- example:- username@domainname.extension\n",
    "- username:-\n",
    "            - length will be [6-15]\n",
    "            - no spls characters apart from underscore()\n",
    "            - should not begin and end with underscore()\n",
    "            - character set:all digits and lower cases\n",
    "- domainname:-\n",
    "            - length will be [3-18]\n",
    "            - no spl characters\n",
    "            - chracter set: all digits and lower case\n",
    "- extension:-\n",
    "            - length will be [2-4]\n",
    "            - no spl characters\n",
    "            - character set: lower case characters"
   ]
  },
  {
   "cell_type": "code",
   "execution_count": 28,
   "metadata": {},
   "outputs": [
    {
     "data": {
      "text/plain": [
       "True"
      ]
     },
     "execution_count": 28,
     "metadata": {},
     "output_type": "execute_result"
    }
   ],
   "source": [
    "def emailid(email):\n",
    "    pattern='^[0-9a-z][0-9a-z_.]{5,14}[@][a-z0-9]{3,18}[.][a-z]{2,4}$'\n",
    "    if re.match(pattern,email):\n",
    "        return True\n",
    "    return False\n",
    "emailid('anilkumar189@gmail.com')"
   ]
  },
  {
   "cell_type": "markdown",
   "metadata": {},
   "source": [
    "### python turtle\n",
    "   - turtle graphics"
   ]
  },
  {
   "cell_type": "code",
   "execution_count": 30,
   "metadata": {},
   "outputs": [],
   "source": [
    "# step 1: make all the turtles to be imported\n",
    "import turtle\n",
    "#turtle method creates and returns a new object\n",
    "a1=turtle.Turtle()\n",
    "#forward() method move 100 pixels\n",
    "turtle.forward(250)\n",
    "#we are done\n",
    "turtle.done()"
   ]
  },
  {
   "cell_type": "code",
   "execution_count": null,
   "metadata": {},
   "outputs": [],
   "source": [
    "# line draw in reverse direction\n",
    "import turtle as tt\n",
    "a1=tt.Turtle()\n",
    "tt.backward(100)\n",
    "tt.done()"
   ]
  },
  {
   "cell_type": "code",
   "execution_count": 4,
   "metadata": {},
   "outputs": [],
   "source": [
    "# draw a square \n",
    "import turtle as tt\n",
    "a1=tt.Turtle()\n",
    "a1.forward(150)\n",
    "a1.right(90)\n",
    "a1.forward(150)\n",
    "a1.right(90)\n",
    "a1.forward(150)\n",
    "a1.right(90)\n",
    "a1.forward(150)\n",
    "a1.right(90)"
   ]
  },
  {
   "cell_type": "code",
   "execution_count": null,
   "metadata": {},
   "outputs": [],
   "source": [
    "# draw the square\n",
    "import turtle as t\n",
    "aa=t.Turtle()\n",
    "aa.backward(150)\n",
    "aa.left(90)\n",
    "aa.backward(150)\n",
    "aa.left(90)\n",
    "aa.backward(150)\n",
    "aa.left(90)\n",
    "aa.backward(150)\n",
    "aa.left(90)\n",
    "t.done()"
   ]
  },
  {
   "cell_type": "code",
   "execution_count": null,
   "metadata": {},
   "outputs": [],
   "source": [
    "# loop statements\n",
    "import turtle as t\n",
    "aa=t.Turtle()\n",
    "for i in range(4):\n",
    "    aa.forward(150)\n",
    "    aa.right(90)\n",
    "t.done()"
   ]
  },
  {
   "cell_type": "code",
   "execution_count": 1,
   "metadata": {},
   "outputs": [],
   "source": [
    "# star\n",
    "import turtle as t\n",
    "a1=t.Turtle()\n",
    "for i in range(40):\n",
    "    a1.forward(50)\n",
    "    a1.right(144)\n",
    "t.done()\n"
   ]
  },
  {
   "cell_type": "code",
   "execution_count": null,
   "metadata": {},
   "outputs": [],
   "source": [
    "# spiraling star\n",
    "import turtle as t\n",
    "a1=t.Turtle()\n",
    "a1.pencolor('blue')\n",
    "for i in range(40):\n",
    "    a1.forward(i*10)\n",
    "    a1.right(144)\n",
    "t.done()"
   ]
  },
  {
   "cell_type": "code",
   "execution_count": 1,
   "metadata": {},
   "outputs": [],
   "source": [
    "#square spiral help of turtle\n",
    "import turtle as t\n",
    "a1=t.Turtle()\n",
    "a1.pencolor('blue')\n",
    "for i in range(250):\n",
    "    a1.forward(i)\n",
    "    a1.left(91)\n",
    "t.done()"
   ]
  },
  {
   "cell_type": "code",
   "execution_count": 3,
   "metadata": {},
   "outputs": [],
   "source": [
    "#hexagon spiral with multicolor\n",
    "from turtle import *\n",
    "colors=['blue','green','yellow','orange','purple','red']\n",
    "for x in range(360):\n",
    "    pencolor(colors[x%6])\n",
    "    width(x/100+1)\n",
    "    forward(x)\n",
    "    left(59)\n"
   ]
  },
  {
   "cell_type": "code",
   "execution_count": 1,
   "metadata": {},
   "outputs": [],
   "source": [
    "# goto function\n",
    "from turtle import *\n",
    "goto(50,50)\n",
    "goto(-50,50)\n",
    "goto(100,-50)\n",
    "goto(-50,-50)"
   ]
  },
  {
   "cell_type": "code",
   "execution_count": 2,
   "metadata": {},
   "outputs": [],
   "source": [
    "# setheading(heading)\n",
    "# will change the currnt direction to the heading angle\n",
    "from turtle import *\n",
    "colors=['blue','red','purple','orange','green','yellow']\n",
    "for angle in range(0,360,15):\n",
    "    pencolor(colors[angle%6])\n",
    "    setheading(angle)\n",
    "    forward(100)\n",
    "    write(str(angle)+'o')\n",
    "    backward(100)"
   ]
  },
  {
   "cell_type": "code",
   "execution_count": 4,
   "metadata": {},
   "outputs": [],
   "source": [
    "from turtle import *\n",
    "pencolor('blue')\n",
    "for i in range(20):\n",
    "    forward(100)\n",
    "    left(90)\n",
    "    forward(10)\n",
    "    left(90)\n",
    "    forward(100)\n",
    "    right(90)\n",
    "    forward(10)\n",
    "    right(90)\n",
    "pencolor('red')\n",
    "for i in range(90):\n",
    "    undo()"
   ]
  },
  {
   "cell_type": "code",
   "execution_count": 1,
   "metadata": {},
   "outputs": [],
   "source": [
    "from turtle import *\n",
    "pensize(50)\n",
    "pencolor('yellow')\n",
    "forward(250)\n",
    "pencolor(0,1.0,0)\n",
    "forward(250)\n",
    "pensize(10)\n",
    "goto(-400,50)\n",
    "for red in range(4):\n",
    "    for green in range(4):\n",
    "        for blue in range(4):\n",
    "            pencolor(red/4.0,green/4.0,blue/4.0)\n",
    "            forward(10)\n",
    "\n"
   ]
  },
  {
   "cell_type": "code",
   "execution_count": null,
   "metadata": {},
   "outputs": [],
   "source": [
    "# generate a rectangle\n",
    "# generate a circle\n",
    "# fil the colors into rectangles and circles\n",
    "# fillcolor\n",
    "# generate same stars\n",
    "# stamp()\n"
   ]
  },
  {
   "cell_type": "code",
   "execution_count": 1,
   "metadata": {},
   "outputs": [
    {
     "name": "stdout",
     "output_type": "stream",
     "text": [
      "giam\n",
      "\n",
      "\n"
     ]
    }
   ],
   "source": [
    "def string_both_ends(str):\n",
    "    if len(str)<2:\n",
    "        return ''\n",
    "    return str[0:2]+str[-2:]\n",
    "print(string_both_ends('gitam'))\n",
    "print(string_both_ends('g'))\n",
    "print(string_both_ends('g'))"
   ]
  },
  {
   "cell_type": "code",
   "execution_count": 1,
   "metadata": {},
   "outputs": [],
   "source": [
    "# generate rectangle\n",
    "import turtle as t\n",
    "aa=t.Turtle()\n",
    "aa.backward(-100)\n",
    "aa.left(90)\n",
    "aa.backward(50)\n",
    "aa.left(90)\n",
    "aa.forward(100)\n",
    "aa.left(90)\n",
    "aa.forward(-50)\n",
    "aa.left(90)\n",
    "t.done()\n"
   ]
  },
  {
   "cell_type": "code",
   "execution_count": 1,
   "metadata": {},
   "outputs": [],
   "source": [
    "# generate circle\n",
    "import turtle \n",
    "t=turtle.Turtle()\n",
    "t.circle(50)"
   ]
  },
  {
   "cell_type": "code",
   "execution_count": 1,
   "metadata": {},
   "outputs": [],
   "source": [
    "# fill color into a circle\n",
    "import turtle \n",
    "t = turtle.Turtle()\n",
    "t.fillcolor('orange')\n",
    "t.begin_fill()\n",
    "t.circle(100)\n",
    "t.end_fill()"
   ]
  },
  {
   "cell_type": "code",
   "execution_count": 1,
   "metadata": {},
   "outputs": [],
   "source": [
    "# fill color into a rectangle\n",
    "import turtle \n",
    "t=turtle.Turtle()\n",
    "t.fillcolor('blue')\n",
    "t.begin_fill()\n",
    "t.backward(-100)\n",
    "t.left(90)\n",
    "t.backward(50)\n",
    "t.left(90)\n",
    "t.forward(100)\n",
    "t.left(90)\n",
    "t.forward(-50)\n",
    "t.left(90)\n",
    "\n",
    "t.end_fill()"
   ]
  },
  {
   "cell_type": "code",
   "execution_count": null,
   "metadata": {},
   "outputs": [],
   "source": []
  }
 ],
 "metadata": {
  "kernelspec": {
   "display_name": "Python 3",
   "language": "python",
   "name": "python3"
  },
  "language_info": {
   "codemirror_mode": {
    "name": "ipython",
    "version": 3
   },
   "file_extension": ".py",
   "mimetype": "text/x-python",
   "name": "python",
   "nbconvert_exporter": "python",
   "pygments_lexer": "ipython3",
   "version": "3.7.3"
  }
 },
 "nbformat": 4,
 "nbformat_minor": 2
}
